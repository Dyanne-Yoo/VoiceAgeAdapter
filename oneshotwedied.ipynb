{
 "cells": [
  {
   "cell_type": "code",
   "execution_count": 19,
   "id": "fe60d452-88d4-434d-af63-6cf727f9ac6a",
   "metadata": {},
   "outputs": [],
   "source": [
    "import os\n",
    "import librosa\n",
    "import numpy as np\n",
    "import matplotlib.pyplot as plt\n",
    "import speech_recognition as speech_recog\n",
    "import openai\n",
    "from tensorflow.keras.models import load_model\n",
    "import pyaudio\n",
    "import librosa\n",
    "import torch\n",
    "from tqdm import tqdm  \n",
    "from transformers import AutoModelForCausalLM, AutoTokenizer\n",
    "import simpleaudio as sa\n",
    "import sounddevice as sd"
   ]
  },
  {
   "cell_type": "code",
   "execution_count": null,
   "id": "7c559732-7b1b-4986-8657-52a1068cb598",
   "metadata": {},
   "outputs": [],
   "source": [
    "data_paths = {\n",
    "    \"노인남녀\": \"/Users/yudayeon/Library/Mobile Documents/com~apple~CloudDocs/음성 test 3gb/노인 남녀\",\n",
    "    \"소아유아\": \"/Users/yudayeon/Library/Mobile Documents/com~apple~CloudDocs/음성 test 3gb/소아, 유아\",\n",
    "    \"일반남녀\": \"/Users/yudayeon/Library/Mobile Documents/com~apple~CloudDocs/음성 test 3gb/일반 남녀\"\n",
    "}"
   ]
  },
  {
   "cell_type": "code",
   "execution_count": 5,
   "id": "f6a44f70-ea28-4082-bcd3-7cd1fcdbefe6",
   "metadata": {},
   "outputs": [],
   "source": [
    "label_map = {\"노인남녀\": 0, \"소아유아\": 1, \"일반남녀\": 2}"
   ]
  },
  {
   "cell_type": "code",
   "execution_count": 6,
   "id": "f7a93893-638a-4f7b-95dc-b29286d6d909",
   "metadata": {},
   "outputs": [
    {
     "name": "stdout",
     "output_type": "stream",
     "text": [
      "Processing folder: /Users/yudayeon/Library/Mobile Documents/com~apple~CloudDocs/음성 test 3gb/노인 남녀 (Label: 노인남녀)\n"
     ]
    },
    {
     "name": "stderr",
     "output_type": "stream",
     "text": [
      "Loading 노인남녀: 9it [01:27,  9.69s/it]\n"
     ]
    },
    {
     "name": "stdout",
     "output_type": "stream",
     "text": [
      "Processing folder: /Users/yudayeon/Library/Mobile Documents/com~apple~CloudDocs/음성 test 3gb/소아, 유아 (Label: 소아유아)\n"
     ]
    },
    {
     "name": "stderr",
     "output_type": "stream",
     "text": [
      "Loading 소아유아: 5it [00:47,  9.42s/it]\n"
     ]
    },
    {
     "name": "stdout",
     "output_type": "stream",
     "text": [
      "Processing folder: /Users/yudayeon/Library/Mobile Documents/com~apple~CloudDocs/음성 test 3gb/일반 남녀 (Label: 일반남녀)\n"
     ]
    },
    {
     "name": "stderr",
     "output_type": "stream",
     "text": [
      "Loading 일반남녀: 23it [01:03,  2.78s/it]\n"
     ]
    },
    {
     "name": "stdout",
     "output_type": "stream",
     "text": [
      "Features shape: (23098, 64, 100)\n",
      "Labels shape: (23098,)\n"
     ]
    }
   ],
   "source": [
    "# 데이터 로드와 레이블 저장을 동시에 처리하는 함수\n",
    "\n",
    "def load_data_with_labels(data_paths, label_map, sr=16000, n_mels=64, max_len=100):\n",
    "    features = []\n",
    "    labels = []\n",
    "    \n",
    "    for label_name, folder_path in data_paths.items():\n",
    "        print(f\"Processing folder: {folder_path} (Label: {label_name})\")\n",
    "        for root, dirs, files in tqdm(os.walk(folder_path), desc=f\"Loading {label_name}\"):\n",
    "            for file_name in files:\n",
    "                if file_name.lower().endswith('.wav'):  \n",
    "                    file_path = os.path.join(root, file_name)\n",
    "                    try:\n",
    "                        \n",
    "                        y, _ = librosa.load(file_path, sr=sr)\n",
    "                        \n",
    "                        \n",
    "                        mel_spec = librosa.feature.melspectrogram(y=y, sr=sr, n_mels=n_mels)\n",
    "                        mel_spec_db = librosa.power_to_db(mel_spec, ref=np.max)\n",
    "                        \n",
    "                        \n",
    "                        if mel_spec_db.shape[1] > max_len:\n",
    "                            mel_spec_db = mel_spec_db[:, :max_len]\n",
    "                        else:\n",
    "                            pad_width = max_len - mel_spec_db.shape[1]\n",
    "                            mel_spec_db = np.pad(mel_spec_db, ((0, 0), (0, pad_width)), mode='constant')\n",
    "                        \n",
    "                        \n",
    "                        features.append(mel_spec_db)\n",
    "                        labels.append(label_map[label_name])\n",
    "                    except Exception as e:\n",
    "                        print(f\"Error processing {file_path}: {e}\")\n",
    "    \n",
    "    return np.array(features), np.array(labels)\n",
    "\n",
    "features, labels = load_data_with_labels(data_paths, label_map)\n",
    "\n",
    "\n",
    "print(f\"Features shape: {features.shape}\")  \n",
    "print(f\"Labels shape: {labels.shape}\")     "
   ]
  },
  {
   "cell_type": "code",
   "execution_count": 7,
   "id": "cd1c424a-8f72-4af0-be1b-755315120e1d",
   "metadata": {},
   "outputs": [
    {
     "name": "stdout",
     "output_type": "stream",
     "text": [
      "Train features shape: (18478, 64, 100)\n",
      "Test features shape: (4620, 64, 100)\n",
      "Train labels distribution: [6385 5417 6676]\n",
      "Test labels distribution: [1611 1355 1654]\n"
     ]
    }
   ],
   "source": [
    "from sklearn.model_selection import train_test_split\n",
    "from torch.utils.data import Dataset, DataLoader\n",
    "\n",
    "X_train, X_test, y_train, y_test = train_test_split(features, labels, test_size=0.2, random_state=42)\n",
    "\n",
    "print(\"Train features shape:\", X_train.shape)  \n",
    "print(\"Test features shape:\", X_test.shape)\n",
    "print(\"Train labels distribution:\", np.bincount(y_train))\n",
    "print(\"Test labels distribution:\", np.bincount(y_test))\n",
    "\n",
    "\n",
    "class AudioDataset(Dataset):\n",
    "    def __init__(self, features, labels):\n",
    "        self.features = torch.tensor(features, dtype=torch.float32).unsqueeze(1)  # 채널 추가\n",
    "        self.labels = torch.tensor(labels, dtype=torch.long)\n",
    "\n",
    "    def __len__(self):\n",
    "        return len(self.labels)\n",
    "\n",
    "    def __getitem__(self, idx):\n",
    "        return self.features[idx], self.labels[idx]\n",
    "\n",
    "train_dataset = AudioDataset(X_train, y_train)\n",
    "test_dataset = AudioDataset(X_test, y_test)\n",
    "\n",
    "train_loader = DataLoader(train_dataset, batch_size=32, shuffle=True)\n",
    "test_loader = DataLoader(test_dataset, batch_size=32, shuffle=False)"
   ]
  },
  {
   "cell_type": "code",
   "execution_count": 9,
   "id": "99329700-b4af-4ddc-895b-2b057a19fc16",
   "metadata": {},
   "outputs": [
    {
     "name": "stdout",
     "output_type": "stream",
     "text": [
      "SimpleCNN(\n",
      "  (conv1): Conv2d(1, 32, kernel_size=(3, 3), stride=(1, 1), padding=(1, 1))\n",
      "  (conv2): Conv2d(32, 64, kernel_size=(3, 3), stride=(1, 1), padding=(1, 1))\n",
      "  (pool): MaxPool2d(kernel_size=2, stride=2, padding=0, dilation=1, ceil_mode=False)\n",
      "  (fc1): Linear(in_features=25600, out_features=128, bias=True)\n",
      "  (fc2): Linear(in_features=128, out_features=3, bias=True)\n",
      ")\n"
     ]
    }
   ],
   "source": [
    "import torch\n",
    "import torch.nn as nn\n",
    "import torch.optim as optim\n",
    "\n",
    "class SimpleCNN(nn.Module):\n",
    "    def __init__(self, n_mels, max_len, num_classes):\n",
    "        super(SimpleCNN, self).__init__()\n",
    "        self.conv1 = nn.Conv2d(1, 32, kernel_size=3, stride=1, padding=1)\n",
    "        self.conv2 = nn.Conv2d(32, 64, kernel_size=3, stride=1, padding=1)\n",
    "        self.pool = nn.MaxPool2d(2, 2)\n",
    "        self.fc1 = nn.Linear(64 * (n_mels // 4) * (max_len // 4), 128)  # Flatten 후 크기 계산\n",
    "        self.fc2 = nn.Linear(128, num_classes)\n",
    "\n",
    "    def forward(self, x):\n",
    "        x = self.pool(torch.relu(self.conv1(x)))\n",
    "        x = self.pool(torch.relu(self.conv2(x)))\n",
    "        x = x.view(x.size(0), -1)  # Flatten\n",
    "        x = torch.relu(self.fc1(x))\n",
    "        x = self.fc2(x)\n",
    "        return x\n",
    "\n",
    "n_mels = 64\n",
    "max_len = 100      \n",
    "num_classes = len(label_map)\n",
    "\n",
    "\n",
    "model = SimpleCNN(n_mels=n_mels, max_len=max_len, num_classes=num_classes)\n",
    "print(model)"
   ]
  },
  {
   "cell_type": "code",
   "execution_count": 10,
   "id": "cb338a3a-3116-40e7-90fe-76b839515025",
   "metadata": {},
   "outputs": [
    {
     "name": "stdout",
     "output_type": "stream",
     "text": [
      "Epoch 1/10, Loss: 0.8986\n",
      "Epoch 2/10, Loss: 0.1774\n",
      "Epoch 3/10, Loss: 0.1067\n",
      "Epoch 4/10, Loss: 0.0667\n",
      "Epoch 5/10, Loss: 0.0400\n",
      "Epoch 6/10, Loss: 0.0234\n",
      "Epoch 7/10, Loss: 0.0272\n",
      "Epoch 8/10, Loss: 0.0835\n",
      "Epoch 9/10, Loss: 0.0299\n",
      "Epoch 10/10, Loss: 0.0139\n"
     ]
    }
   ],
   "source": [
    "\n",
    "criterion = nn.CrossEntropyLoss()\n",
    "optimizer = optim.Adam(model.parameters(), lr=0.001)\n",
    "\n",
    "\n",
    "def train_model(model, train_loader, criterion, optimizer, num_epochs=10):\n",
    "    model.train()\n",
    "    for epoch in range(num_epochs):\n",
    "        running_loss = 0.0\n",
    "        for inputs, labels in train_loader:\n",
    "            optimizer.zero_grad()\n",
    "            outputs = model(inputs)\n",
    "            loss = criterion(outputs, labels)\n",
    "            loss.backward()\n",
    "            optimizer.step()\n",
    "            running_loss += loss.item()\n",
    "        print(f\"Epoch {epoch+1}/{num_epochs}, Loss: {running_loss/len(train_loader):.4f}\")\n",
    "\n",
    "train_model(model, train_loader, criterion, optimizer, num_epochs=10)"
   ]
  },
  {
   "cell_type": "code",
   "execution_count": 139,
   "id": "304543fa-091c-4b05-90dc-cb443d48c473",
   "metadata": {},
   "outputs": [
    {
     "name": "stdout",
     "output_type": "stream",
     "text": [
      "Overall Accuracy: 98.85%\n",
      "\n",
      "Class-wise Accuracy:\n",
      "노인: 99.81%\n",
      "소아: 98.45%\n",
      "일반: 98.25%\n",
      "\n",
      "Confusion Matrix:\n",
      "[[1608    1    2]\n",
      " [   8 1334   13]\n",
      " [   6   23 1625]]\n",
      "\n",
      "Classification Report:\n",
      "              precision    recall  f1-score   support\n",
      "\n",
      "          노인       0.99      1.00      0.99      1611\n",
      "          소아       0.98      0.98      0.98      1355\n",
      "          일반       0.99      0.98      0.99      1654\n",
      "\n",
      "    accuracy                           0.99      4620\n",
      "   macro avg       0.99      0.99      0.99      4620\n",
      "weighted avg       0.99      0.99      0.99      4620\n",
      "\n"
     ]
    }
   ],
   "source": [
    "from sklearn.metrics import confusion_matrix, classification_report\n",
    "import numpy as np\n",
    "\n",
    "def evaluate_model_with_metrics(model, test_loader, class_names):\n",
    "    model.eval()\n",
    "    all_preds = []\n",
    "    all_labels = []\n",
    "    \n",
    "    with torch.no_grad():\n",
    "        for inputs, labels in test_loader:\n",
    "            outputs = model(inputs)\n",
    "            _, predicted = torch.max(outputs, 1)\n",
    "            all_preds.extend(predicted.numpy())\n",
    "            all_labels.extend(labels.numpy())\n",
    "\n",
    "   \n",
    "    overall_accuracy = 100 * np.mean(np.array(all_preds) == np.array(all_labels))\n",
    "    print(f\"Overall Accuracy: {overall_accuracy:.2f}%\")\n",
    "\n",
    "    class_accuracies = {}\n",
    "    for i, class_name in enumerate(class_names):\n",
    "        true_positive = np.sum((np.array(all_preds) == i) & (np.array(all_labels) == i))\n",
    "        total_samples = np.sum(np.array(all_labels) == i)\n",
    "        class_accuracies[class_name] = 100 * true_positive / total_samples if total_samples > 0 else 0.0\n",
    "\n",
    "    print(\"\\nClass-wise Accuracy:\")\n",
    "    for class_name, accuracy in class_accuracies.items():\n",
    "        print(f\"{class_name}: {accuracy:.2f}%\")\n",
    "    \n",
    "    # 컨퓨전 매트릭스\n",
    "    cm = confusion_matrix(all_labels, all_preds)\n",
    "    print(\"\\nConfusion Matrix:\")\n",
    "    print(cm)\n",
    "\n",
    "    report = classification_report(all_labels, all_preds, target_names=class_names)\n",
    "    print(\"\\nClassification Report:\")\n",
    "    print(report)\n",
    "\n",
    "    return cm, class_accuracies\n",
    "\n",
    "class_names = [\"노인\", \"소아\", \"일반\"]\n",
    "\n",
    "cm, class_accuracies = evaluate_model_with_metrics(model, test_loader, class_names)\n"
   ]
  },
  {
   "cell_type": "code",
   "execution_count": 142,
   "id": "2f4d0fbe-4399-46d9-8eee-fdccf6ee631e",
   "metadata": {},
   "outputs": [
    {
     "name": "stderr",
     "output_type": "stream",
     "text": [
      "/opt/anaconda3/envs/voice_env/lib/python3.9/site-packages/seaborn/utils.py:61: UserWarning: Glyph 45432 (\\N{HANGUL SYLLABLE NO}) missing from current font.\n",
      "  fig.canvas.draw()\n",
      "/opt/anaconda3/envs/voice_env/lib/python3.9/site-packages/seaborn/utils.py:61: UserWarning: Glyph 51064 (\\N{HANGUL SYLLABLE IN}) missing from current font.\n",
      "  fig.canvas.draw()\n",
      "/opt/anaconda3/envs/voice_env/lib/python3.9/site-packages/seaborn/utils.py:61: UserWarning: Glyph 49548 (\\N{HANGUL SYLLABLE SO}) missing from current font.\n",
      "  fig.canvas.draw()\n",
      "/opt/anaconda3/envs/voice_env/lib/python3.9/site-packages/seaborn/utils.py:61: UserWarning: Glyph 50500 (\\N{HANGUL SYLLABLE A}) missing from current font.\n",
      "  fig.canvas.draw()\n",
      "/opt/anaconda3/envs/voice_env/lib/python3.9/site-packages/seaborn/utils.py:61: UserWarning: Glyph 51068 (\\N{HANGUL SYLLABLE IL}) missing from current font.\n",
      "  fig.canvas.draw()\n",
      "/opt/anaconda3/envs/voice_env/lib/python3.9/site-packages/seaborn/utils.py:61: UserWarning: Glyph 48152 (\\N{HANGUL SYLLABLE BAN}) missing from current font.\n",
      "  fig.canvas.draw()\n",
      "/opt/anaconda3/envs/voice_env/lib/python3.9/site-packages/IPython/core/pylabtools.py:152: UserWarning: Glyph 45432 (\\N{HANGUL SYLLABLE NO}) missing from current font.\n",
      "  fig.canvas.print_figure(bytes_io, **kw)\n",
      "/opt/anaconda3/envs/voice_env/lib/python3.9/site-packages/IPython/core/pylabtools.py:152: UserWarning: Glyph 51064 (\\N{HANGUL SYLLABLE IN}) missing from current font.\n",
      "  fig.canvas.print_figure(bytes_io, **kw)\n",
      "/opt/anaconda3/envs/voice_env/lib/python3.9/site-packages/IPython/core/pylabtools.py:152: UserWarning: Glyph 49548 (\\N{HANGUL SYLLABLE SO}) missing from current font.\n",
      "  fig.canvas.print_figure(bytes_io, **kw)\n",
      "/opt/anaconda3/envs/voice_env/lib/python3.9/site-packages/IPython/core/pylabtools.py:152: UserWarning: Glyph 50500 (\\N{HANGUL SYLLABLE A}) missing from current font.\n",
      "  fig.canvas.print_figure(bytes_io, **kw)\n",
      "/opt/anaconda3/envs/voice_env/lib/python3.9/site-packages/IPython/core/pylabtools.py:152: UserWarning: Glyph 51068 (\\N{HANGUL SYLLABLE IL}) missing from current font.\n",
      "  fig.canvas.print_figure(bytes_io, **kw)\n",
      "/opt/anaconda3/envs/voice_env/lib/python3.9/site-packages/IPython/core/pylabtools.py:152: UserWarning: Glyph 48152 (\\N{HANGUL SYLLABLE BAN}) missing from current font.\n",
      "  fig.canvas.print_figure(bytes_io, **kw)\n"
     ]
    },
    {
     "data": {
      "image/png": "[encoded data removed]",
      "text/plain": [
       "<Figure size 800x600 with 2 Axes>"
      ]
     },
     "metadata": {},
     "output_type": "display_data"
    }
   ],
   "source": [
    "import seaborn as sns\n",
    "import matplotlib.pyplot as plt\n",
    "\n",
    "def plot_confusion_matrix(cm, class_names):\n",
    "    plt.figure(figsize=(8, 6))\n",
    "    sns.heatmap(cm, annot=True, fmt=\"d\", cmap=\"Blues\", xticklabels=class_names, yticklabels=class_names)\n",
    "    plt.xlabel(\"Predicted Label\")\n",
    "    plt.ylabel(\"True Label\")\n",
    "    plt.title(\"Confusion Matrix\")\n",
    "    plt.show()\n",
    "\n",
    "# 컨퓨전 매트릭스 시각화\n",
    "plot_confusion_matrix(cm, class_names)\n"
   ]
  },
  {
   "cell_type": "code",
   "execution_count": 146,
   "id": "6901ef60-544a-4c5a-92e8-0c94c2f35381",
   "metadata": {},
   "outputs": [],
   "source": [
    "import csv\n",
    "\n",
    "def save_results_to_csv(results, filename=\"results.csv\"):\n",
    "    with open(filename, mode='w', newline='') as file:\n",
    "        writer = csv.writer(file)\n",
    "        writer.writerow([\"Predicted\", \"Actual\"])\n",
    "        writer.writerows(results)\n",
    "\n",
    "save_results_to_csv(results, filename=\"/Users/yudayeon/Downloads/results.csv\")"
   ]
  },
  {
   "cell_type": "code",
   "execution_count": 13,
   "id": "421410c8-934d-4902-8210-fb1e598ecec1",
   "metadata": {},
   "outputs": [],
   "source": [
    "torch.save(model.state_dict(), \"cnn_model.pth\")"
   ]
  },
  {
   "cell_type": "code",
   "execution_count": null,
   "id": "ae87e189-0fbd-4852-824f-6a0c5349d3ce",
   "metadata": {},
   "outputs": [],
   "source": []
  },
  {
   "cell_type": "code",
   "execution_count": null,
   "id": "199c6993-6a89-4df3-9c6c-133172978ef9",
   "metadata": {},
   "outputs": [],
   "source": [
    "#api연결하기"
   ]
  },
  {
   "cell_type": "code",
   "execution_count": null,
   "id": "f9b092f2-764d-4f9d-b239-09346eb63223",
   "metadata": {},
   "outputs": [],
   "source": []
  },
  {
   "cell_type": "code",
   "execution_count": null,
   "id": "0ff8b7a5-4363-4d29-90c3-fa3330a7e4a0",
   "metadata": {},
   "outputs": [],
   "source": []
  },
  {
   "cell_type": "code",
   "execution_count": null,
   "id": "aae91693-1282-4eaa-b379-f83b09ad96a4",
   "metadata": {},
   "outputs": [],
   "source": []
  },
  {
   "cell_type": "code",
   "execution_count": null,
   "id": "be8a2968-3640-4a9b-9bbf-5e7c46eb482f",
   "metadata": {},
   "outputs": [],
   "source": []
  },
  {
   "cell_type": "code",
   "execution_count": null,
   "id": "ccd8beb6-2159-4b56-ac28-229f8c87a75f",
   "metadata": {},
   "outputs": [],
   "source": []
  },
  {
   "cell_type": "code",
   "execution_count": null,
   "id": "64c8b394-c843-4aec-9750-3d40f3afb1e0",
   "metadata": {},
   "outputs": [],
   "source": []
  },
  {
   "cell_type": "code",
   "execution_count": null,
   "id": "fad0dedd-407a-4ba0-a4fb-d17950d6149d",
   "metadata": {},
   "outputs": [],
   "source": [
    "import sounddevice as sd\n",
    "sd.default.device = 2  "
   ]
  },
  {
   "cell_type": "code",
   "execution_count": null,
   "id": "78e6bf40-508f-46e6-9be4-a14f70e94766",
   "metadata": {},
   "outputs": [],
   "source": []
  },
  {
   "cell_type": "code",
   "execution_count": 137,
   "id": "6e387d9d-4c57-46ed-b36b-fabcf3d425c8",
   "metadata": {},
   "outputs": [
    {
     "name": "stdout",
     "output_type": "stream",
     "text": [
      "음성을 입력하세요 (10초 동안 녹음):\n",
      "녹음 완료. 음성을 처리 중입니다...\n",
      "입력된 음성을 재생합니다...\n"
     ]
    },
    {
     "data": {
      "image/png": "[encoded data removed]",
      "text/plain": [
       "<Figure size 1000x500 with 1 Axes>"
      ]
     },
     "metadata": {},
     "output_type": "display_data"
    },
    {
     "data": {
      "image/png": "[encoded data removed]",
      "text/plain": [
       "<Figure size 1000x500 with 2 Axes>"
      ]
     },
     "metadata": {},
     "output_type": "display_data"
    },
    {
     "name": "stdout",
     "output_type": "stream",
     "text": [
      "예측된 연령대: 1\n"
     ]
    }
   ],
   "source": [
    "import matplotlib.pyplot as plt\n",
    "\n",
    "# 음성 데이터 시각화: 히스토그램 및 멜스펙트로그램 생성 함수\n",
    "def visualize_audio_data(audio_wav, sr):\n",
    "    # 1. 히스토그램 생성\n",
    "    plt.figure(figsize=(10, 5))\n",
    "    plt.hist(audio_wav, bins=50, color='blue', alpha=0.7)\n",
    "    plt.title('Amplitude Histogram of Audio')\n",
    "    plt.xlabel('Amplitude')\n",
    "    plt.ylabel('Frequency')\n",
    "    plt.grid(True)\n",
    "    plt.show()\n",
    "\n",
    "    # 2. Mel-Spectrogram 시각화\n",
    "    mel_spec = librosa.feature.melspectrogram(y=audio_wav, sr=sr, n_mels=n_mels)\n",
    "    mel_spec_db = librosa.power_to_db(mel_spec, ref=np.max)\n",
    "\n",
    "    plt.figure(figsize=(10, 5))\n",
    "    librosa.display.specshow(mel_spec_db, sr=sr, x_axis='time', y_axis='mel', cmap='viridis')\n",
    "    plt.colorbar(format='%+2.0f dB')\n",
    "    plt.title('Mel-Spectrogram')\n",
    "    plt.xlabel('Time')\n",
    "    plt.ylabel('Mel Frequency')\n",
    "    plt.show()\n",
    "\n",
    "# 실시간 음성 입력 처리 함수 수정 (히스토그램 및 멜스펙트로그램 추가)\n",
    "def process_voice_input():\n",
    "    recognizer = speech_recog.Recognizer()\n",
    "    sr = 16000  \n",
    "\n",
    "    try:\n",
    "        with speech_recog.Microphone(sample_rate=sr) as source:  \n",
    "            print(\"음성을 입력하세요 (10초 동안 녹음):\")\n",
    "            audio_data = recognizer.listen(source, timeout=10)\n",
    "            print(\"녹음 완료. 음성을 처리 중입니다...\")\n",
    "\n",
    "            audio_wav = np.frombuffer(audio_data.get_raw_data(), dtype=np.int16).astype(np.float32) / 32768.0\n",
    "            print(\"입력된 음성을 재생합니다...\")\n",
    "            play_audio(audio_wav, sr)\n",
    "\n",
    "            visualize_audio_data(audio_wav, sr)\n",
    "\n",
    "            # Mel-Spectrogram 생성\n",
    "            mel_spec = librosa.feature.melspectrogram(y=audio_wav, sr=sr, n_mels=n_mels)\n",
    "            mel_spec_db = librosa.power_to_db(mel_spec, ref=np.max)\n",
    "\n",
    "            # 패딩 또는 자르기로 크기 통일\n",
    "            max_len = 100\n",
    "            if mel_spec_db.shape[1] > max_len:\n",
    "                mel_spec_db = mel_spec_db[:, :max_len]\n",
    "            else:\n",
    "                pad_width = max_len - mel_spec_db.shape[1]\n",
    "                mel_spec_db = np.pad(mel_spec_db, ((0, 0), (0, pad_width)), mode='constant')\n",
    "\n",
    "            # 모델 입력 형태로 변환\n",
    "            input_tensor = torch.tensor(mel_spec_db).unsqueeze(0).unsqueeze(0)\n",
    "\n",
    "            # 연령대 예측\n",
    "            with torch.no_grad():\n",
    "                outputs = model(input_tensor)\n",
    "                predicted_label = torch.argmax(outputs, dim=1).item()\n",
    "\n",
    "            print(f\"예측된 연령대: {predicted_label}\")\n",
    "    except Exception as e:\n",
    "        print(f\"오류 발생: {e}\")\n",
    "\n",
    "# 실행\n",
    "process_voice_input()\n"
   ]
  },
  {
   "cell_type": "code",
   "execution_count": 46,
   "id": "3903cfce-7a7b-4831-96ab-94bcc75cd995",
   "metadata": {},
   "outputs": [
    {
     "name": "stdout",
     "output_type": "stream",
     "text": [
      "1.55.0\n"
     ]
    }
   ],
   "source": [
    "\"sk-proj-EUvpJGZ9f1smtnXxzHd71pFfcqfU860OpK16gx4E9R8-\""
   ]
  },
  {
   "cell_type": "code",
   "execution_count": 16,
   "id": "2f43725b-0988-4445-9d9a-1386859fd8cf",
   "metadata": {},
   "outputs": [],
   "source": [
    "import sounddevice as sd\n",
    "sd.default.device = 2  "
   ]
  },
  {
   "cell_type": "code",
   "execution_count": 145,
   "id": "4040620f-034c-4277-98ab-ac1913dedb74",
   "metadata": {},
   "outputs": [
    {
     "name": "stdout",
     "output_type": "stream",
     "text": [
      "음성을 입력하세요 (10초 동안 녹음):\n",
      "녹음 완료. 음성을 처리 중입니다...\n",
      "예측된 연령대: 1\n",
      "변환된 텍스트: 구름이 뭐야\n",
      "GPT 응답: 구름은 하늘에 떠다니는 크고 푹신한 모래알같은 것이야! 이 모래알들이 모이면 하늘에 큰 구름이 만들어지는 거야. 구름은 바람에 흔들리면서 모양을 바꾸기도 해. 가끔 구름이 물방울로 변해서 비를 내리기도 해! 하늘을 즐겁게 보면서 구름을 발견해보는 건 어때? 그리고 구름이 어떻게 만들어지는지도 궁금하다면 물어봐줘! 함께 알아보자!\n"
     ]
    }
   ],
   "source": [
    "import torch\n",
    "import openai\n",
    "import speech_recognition as speech_recog\n",
    "import librosa\n",
    "import numpy as np\n",
    "from gtts import gTTS\n",
    "import os\n",
    "from pydub import AudioSegment\n",
    "from pydub.playback import play\n",
    "\n",
    "# OpenAI API 키 설정, 개인 api키를 올릴 수 없어서 변경하였습니다\n",
    "openai.api_key = \"sk-proj-EUvpJGZ9f1smtnXxzHd71pFfcqfU860OpK16gx4E9R8-EOJXGoxPTWi1-\"\n",
    "\n",
    "# CNN 모델 클래스\n",
    "class SimpleCNN(torch.nn.Module):\n",
    "    def __init__(self, n_mels, num_classes):\n",
    "        super(SimpleCNN, self).__init__()\n",
    "        self.conv1 = torch.nn.Conv2d(1, 32, kernel_size=3, stride=1, padding=1)\n",
    "        self.conv2 = torch.nn.Conv2d(32, 64, kernel_size=3, stride=1, padding=1)\n",
    "        self.pool = torch.nn.MaxPool2d(2, 2)\n",
    "        self.fc1 = torch.nn.Linear(64 * 16 * 25, 128)\n",
    "        self.fc2 = torch.nn.Linear(128, num_classes)\n",
    "\n",
    "    def forward(self, x):\n",
    "        x = self.pool(torch.relu(self.conv1(x)))\n",
    "        x = self.pool(torch.relu(self.conv2(x)))\n",
    "        x = x.view(x.size(0), -1)  # Flatten\n",
    "        x = torch.relu(self.fc1(x))\n",
    "        x = self.fc2(x)\n",
    "        return x\n",
    "\n",
    "# 모델 초기화 및 로드\n",
    "n_mels = 64\n",
    "num_classes = 3\n",
    "model = SimpleCNN(n_mels=n_mels, num_classes=num_classes)\n",
    "model.load_state_dict(torch.load(\"cnn_model.pth\", weights_only=True))\n",
    "model.eval()\n",
    "\n",
    "# GPT 응답 함수\n",
    "def get_gpt_response(prompt, predicted_label):\n",
    "    tone_prompts = {\n",
    "        0: \"나이가 있으신 분께 공손하고 느린 어조로 쉽게 설명해주세요.\",\n",
    "        1: \"어린이가 이해할 수 있도록 친근하고 재미있게 설명해주세요.\",\n",
    "        2: \"일반 성인을 대상으로 명확하고 간결하게 설명해주세요.\"\n",
    "    }\n",
    "    tone_prompt = tone_prompts.get(predicted_label, \"일반적으로 답변해주세요.\")\n",
    "    full_prompt = f\"{prompt} {tone_prompt}\"\n",
    "    try:\n",
    "        response = openai.ChatCompletion.create(\n",
    "            model=\"gpt-3.5-turbo\",\n",
    "            messages=[\n",
    "                {\"role\": \"system\", \"content\": \"You are a helpful assistant.\"},\n",
    "                {\"role\": \"user\", \"content\": full_prompt}\n",
    "            ],\n",
    "            max_tokens=300,\n",
    "            temperature=0.7\n",
    "        )\n",
    "        return response['choices'][0]['message']['content']\n",
    "    except Exception as e:\n",
    "        print(f\"GPT API 호출 에러: {e}\")\n",
    "        return \"죄송합니다. 답변을 생성하는 데 문제가 발생했습니다.\"\n",
    "\n",
    "# gTTS로 음성 출력 함수\n",
    "def play_korean_tts(text, predicted_label):\n",
    "    try:\n",
    "        tts = gTTS(text=text, lang='ko')\n",
    "        tts.save(\"response.mp3\")\n",
    "        \n",
    "        # 음성을 librosa로 로드\n",
    "        y, sr = librosa.load(\"response.mp3\", sr=None)\n",
    "        \n",
    "        if predicted_label == 0:  # 나이가 있으신 분\n",
    "            y = librosa.effects.time_stretch(y, rate=0.8)  # 느리게\n",
    "            y = y * 1.5  # 볼륨을 1.5배 증가\n",
    "        elif predicted_label == 1:  # 어린이\n",
    "            y = librosa.effects.pitch_shift(y, sr=sr, n_steps=4)  # 피치 높이기\n",
    "            y = librosa.effects.time_stretch(y, rate=1.2)  # 속도를 빠르게\n",
    "        elif predicted_label == 2:  # 일반 성인\n",
    "            y = librosa.effects.time_stretch(y, rate=1.1)  # 속도를 약간 빠르게\n",
    "\n",
    "        # 수정된 음성을 저장\n",
    "        sf.write(\"response_modified.wav\", y, sr)\n",
    "\n",
    "        # `pydub`로 파일 로드 및 재생\n",
    "        sound = AudioSegment.from_file(\"response_modified.wav\", format=\"wav\")\n",
    "\n",
    "        if predicted_label == 0:  # 나이가 있으신 분\n",
    "            sound = sound.apply_gain(+5)  # 볼륨을 추가로 증가 (pydub로)\n",
    "        \n",
    "        play(sound)\n",
    "    except Exception as e:\n",
    "        print(f\"TTS 생성 오류: {e}\")\n",
    "\n",
    "# 실시간 음성 입력 처리 함수\n",
    "def process_voice_input():\n",
    "    recognizer = speech_recog.Recognizer()\n",
    "    sr = 16000  # 샘플링 속도\n",
    "    try:\n",
    "        with speech_recog.Microphone(sample_rate=sr) as source:\n",
    "            print(\"음성을 입력하세요 (10초 동안 녹음):\")\n",
    "            audio_data = recognizer.listen(source, timeout=10)\n",
    "            print(\"녹음 완료. 음성을 처리 중입니다...\")\n",
    "            \n",
    "            # Mel-Spectrogram 생성\n",
    "            audio_wav = np.frombuffer(audio_data.get_raw_data(), dtype=np.int16).astype(np.float32) / 32768.0\n",
    "            mel_spec = librosa.feature.melspectrogram(y=audio_wav, sr=sr, n_mels=n_mels)\n",
    "            mel_spec_db = librosa.power_to_db(mel_spec, ref=np.max)\n",
    "\n",
    "            # 패딩 또는 자르기로 크기 통일\n",
    "            max_len = 100\n",
    "            if mel_spec_db.shape[1] > max_len:\n",
    "                mel_spec_db = mel_spec_db[:, :max_len]\n",
    "            else:\n",
    "                pad_width = max_len - mel_spec_db.shape[1]\n",
    "                mel_spec_db = np.pad(mel_spec_db, ((0, 0), (0, pad_width)), mode='constant')\n",
    "\n",
    "            # 모델 입력 형태로 변환\n",
    "            input_tensor = torch.tensor(mel_spec_db).unsqueeze(0).unsqueeze(0)\n",
    "\n",
    "            # 연령대 예측\n",
    "            with torch.no_grad():\n",
    "                outputs = model(input_tensor)\n",
    "                predicted_label = torch.argmax(outputs, dim=1).item()\n",
    "            print(f\"예측된 연령대: {predicted_label}\")\n",
    "\n",
    "            # 음성을 텍스트로 변환\n",
    "            try:\n",
    "                text = recognizer.recognize_google(audio_data, language=\"ko-KR\")\n",
    "                print(f\"변환된 텍스트: {text}\")\n",
    "            except Exception as e:\n",
    "                print(f\"음성 변환 오류: {e}\")\n",
    "                return\n",
    "\n",
    "            # GPT 응답 생성 및 출력\n",
    "            response = get_gpt_response(text, predicted_label)\n",
    "            print(f\"GPT 응답: {response}\")\n",
    "            play_korean_tts(response, predicted_label)\n",
    "    except Exception as e:\n",
    "        print(f\"오류 발생: {e}\")\n",
    "\n",
    "# 실행\n",
    "if __name__ == \"__main__\":\n",
    "    process_voice_input()\n"
   ]
  },
  {
   "cell_type": "code",
   "execution_count": 99,
   "id": "74d37909-fbf1-492a-ab38-ccb0e65bb018",
   "metadata": {},
   "outputs": [],
   "source": [
    "import soundfile as sf"
   ]
  },
  {
   "cell_type": "code",
   "execution_count": 92,
   "id": "33b07b26-d6d4-4e09-b6b5-25214e686344",
   "metadata": {},
   "outputs": [
    {
     "data": {
      "text/plain": [
       "'cnn_model_structure.png'"
      ]
     },
     "execution_count": 92,
     "metadata": {},
     "output_type": "execute_result"
    }
   ],
   "source": [
    "import torch\n",
    "import torch.nn as nn\n",
    "from torchviz import make_dot\n",
    "\n",
    "# SimpleCNN 모델 정의\n",
    "class SimpleCNN(nn.Module):\n",
    "    def __init__(self, n_mels, max_len, num_classes):\n",
    "        super(SimpleCNN, self).__init__()\n",
    "        self.conv1 = nn.Conv2d(1, 32, kernel_size=3, stride=1, padding=1)\n",
    "        self.conv2 = nn.Conv2d(32, 64, kernel_size=3, stride=1, padding=1)\n",
    "        self.pool = nn.MaxPool2d(2, 2)\n",
    "        self.fc1 = nn.Linear(64 * (n_mels // 4) * (max_len // 4), 128)  # Flatten 후 크기 계산\n",
    "        self.fc2 = nn.Linear(128, num_classes)\n",
    "\n",
    "    def forward(self, x):\n",
    "        x = self.pool(torch.relu(self.conv1(x)))\n",
    "        x = self.pool(torch.relu(self.conv2(x)))\n",
    "        x = x.view(x.size(0), -1)  \n",
    "        x = torch.relu(self.fc1(x))\n",
    "        x = self.fc2(x)\n",
    "        return x\n",
    "\n",
    "\n",
    "n_mels = 64\n",
    "max_len = 100\n",
    "num_classes = 3\n",
    "model = SimpleCNN(n_mels=n_mels, max_len=max_len, num_classes=num_classes)\n",
    "\n",
    "# 임의의 입력 데이터 생성\n",
    "input_tensor = torch.randn(1, 1, n_mels, max_len)\n",
    "\n",
    "# 모델 시각화\n",
    "output = model(input_tensor)\n",
    "dot = make_dot(output, params=dict(model.named_parameters()))\n",
    "dot.render(\"cnn_model_structure\", format=\"png\")  # 모델 구조를 PNG로 저장\n"
   ]
  },
  {
   "cell_type": "code",
   "execution_count": null,
   "id": "e78c2c33-4166-4fb5-9c1f-0700cc64027a",
   "metadata": {},
   "outputs": [],
   "source": []
  }
 ],
 "metadata": {
  "kernelspec": {
   "display_name": "Python 3 (ipykernel)",
   "language": "python",
   "name": "python3"
  },
  "language_info": {
   "codemirror_mode": {
    "name": "ipython",
    "version": 3
   },
   "file_extension": ".py",
   "mimetype": "text/x-python",
   "name": "python",
   "nbconvert_exporter": "python",
   "pygments_lexer": "ipython3",
   "version": "3.9.15"
  }
 },
 "nbformat": 4,
 "nbformat_minor": 5
}
